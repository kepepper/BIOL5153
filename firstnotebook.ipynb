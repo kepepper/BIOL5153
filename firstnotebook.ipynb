{
  "nbformat": 4,
  "nbformat_minor": 0,
  "metadata": {
    "colab": {
      "name": "Untitled0.ipynb",
      "provenance": [],
      "authorship_tag": "ABX9TyOgRqqrZf49pkGSqapy90co",
      "include_colab_link": true
    },
    "kernelspec": {
      "name": "python3",
      "display_name": "Python 3"
    }
  },
  "cells": [
    {
      "cell_type": "markdown",
      "metadata": {
        "id": "view-in-github",
        "colab_type": "text"
      },
      "source": [
        "<a href=\"https://colab.research.google.com/github/kepepper/BIOL5153/blob/main/firstnotebook.ipynb\" target=\"_parent\"><img src=\"https://colab.research.google.com/assets/colab-badge.svg\" alt=\"Open In Colab\"/></a>"
      ]
    },
    {
      "cell_type": "code",
      "metadata": {
        "id": "2SNg1xVMoED_"
      },
      "source": [
        "# set the name of the input DNA sequence file\r\n",
        "filename = 'dna.txt'"
      ],
      "execution_count": 121,
      "outputs": []
    },
    {
      "cell_type": "code",
      "metadata": {
        "id": "o2eus6m4eznH"
      },
      "source": [
        "# open the input file, assign to file handle called 'infile'\r\n",
        "infile = open(filename, 'r')\r\n",
        "\r\n",
        "# print(infile)"
      ],
      "execution_count": 122,
      "outputs": []
    },
    {
      "cell_type": "code",
      "metadata": {
        "id": "7ZjCr137f3Ct"
      },
      "source": [
        "# read the file\r\n",
        "dna_sequence = infile.read().rstrip()\r\n",
        "# dna_sequence = dna_sequence.rstrip()\r\n"
      ],
      "execution_count": 123,
      "outputs": []
    },
    {
      "cell_type": "code",
      "metadata": {
        "colab": {
          "base_uri": "https://localhost:8080/"
        },
        "id": "auEBZgDzhSOf",
        "outputId": "3403bbbc-f548-4f89-8610-a6c7d39d3b4f"
      },
      "source": [
        "# print the dna sequence\r\n",
        "print(dna_sequence)"
      ],
      "execution_count": 124,
      "outputs": [
        {
          "output_type": "stream",
          "text": [
            "ACGGATCCTATCAAATATTTCACATTTTCTATGATCATCTCTATTTTAGGTATTCGGGGAATCCTCCTTAATAGACGAAATATTCCTATTATGTCAATGCCAATTGAATCAATGTTATTAGCTGTGAATTCGAACTTTTTGGTATTTTCCGTTTCTTCGGATGATATGATGGGTCAATCATTTGCTTCATTGGTTCCAACGGTGGCAGCTGCGGAATCCGCTATTGGGTTAGCCATTTTCGTTATTACTTTCCGAGTCCGAGGGACTATTGCTGTAGAATTTATTAATAGCATTCAAGGTTAA\n"
          ],
          "name": "stdout"
        }
      ]
    },
    {
      "cell_type": "code",
      "metadata": {
        "id": "3iCPw_dtjfUn"
      },
      "source": [
        "# close the file\r\n",
        "infile.close()"
      ],
      "execution_count": 125,
      "outputs": []
    },
    {
      "cell_type": "code",
      "metadata": {
        "id": "FLYa00RMjwpY"
      },
      "source": [
        "seqlen = len(dna_sequence)"
      ],
      "execution_count": 126,
      "outputs": []
    },
    {
      "cell_type": "code",
      "metadata": {
        "colab": {
          "base_uri": "https://localhost:8080/"
        },
        "id": "3D_um0edl05c",
        "outputId": "b5468582-e417-4f63-93f1-ff5a66ae1cf4"
      },
      "source": [
        "print(\"Length of DNA sequence =\", seqlen)"
      ],
      "execution_count": 127,
      "outputs": [
        {
          "output_type": "stream",
          "text": [
            "Length of DNA sequence = 303\n"
          ],
          "name": "stdout"
        }
      ]
    },
    {
      "cell_type": "code",
      "metadata": {
        "colab": {
          "base_uri": "https://localhost:8080/"
        },
        "id": "Q4wNblP6mmfb",
        "outputId": "79da1ff2-6dee-424f-a606-51b832de0090"
      },
      "source": [
        "print(dna_sequence.count('A'))\r\n",
        "numA = dna_sequence.count('A')"
      ],
      "execution_count": 128,
      "outputs": [
        {
          "output_type": "stream",
          "text": [
            "76\n"
          ],
          "name": "stdout"
        }
      ]
    },
    {
      "cell_type": "code",
      "metadata": {
        "colab": {
          "base_uri": "https://localhost:8080/"
        },
        "id": "VqTwIL9mmwl3",
        "outputId": "c09c2165-6c01-433e-8dfe-30c0d7506989"
      },
      "source": [
        "print(\"The number of A's in\", filename + \":\", numA)"
      ],
      "execution_count": 129,
      "outputs": [
        {
          "output_type": "stream",
          "text": [
            "The number of A's in dna.txt: 76\n"
          ],
          "name": "stdout"
        }
      ]
    },
    {
      "cell_type": "code",
      "metadata": {
        "id": "0BhyhqQDnpMo"
      },
      "source": [
        "outfile = open('my_first_output.txt', 'w')"
      ],
      "execution_count": 130,
      "outputs": []
    },
    {
      "cell_type": "code",
      "metadata": {
        "colab": {
          "base_uri": "https://localhost:8080/"
        },
        "id": "eHsdDmK3oNzj",
        "outputId": "274f4a9e-13ff-4a03-b79f-fa2f18843d68"
      },
      "source": [
        "outfile.write('DNA sequence: ' + dna_sequence + '\\n')\r\n",
        "outfile.write('Sequence length: ' + str(seqlen) + ' nt' '\\n')\r\n",
        "outfile.write(\"Number of A's: \" + str(numA) + '\\n\\n')"
      ],
      "execution_count": 131,
      "outputs": [
        {
          "output_type": "execute_result",
          "data": {
            "text/plain": [
              "19"
            ]
          },
          "metadata": {
            "tags": []
          },
          "execution_count": 131
        }
      ]
    },
    {
      "cell_type": "code",
      "metadata": {
        "id": "bxDCDUIQpvcP"
      },
      "source": [
        "outfile.close()"
      ],
      "execution_count": 132,
      "outputs": []
    }
  ]
}